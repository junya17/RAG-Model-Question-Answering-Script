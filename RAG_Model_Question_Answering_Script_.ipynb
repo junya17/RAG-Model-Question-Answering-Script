{
  "nbformat": 4,
  "nbformat_minor": 0,
  "metadata": {
    "colab": {
      "provenance": []
    },
    "kernelspec": {
      "name": "python3",
      "display_name": "Python 3"
    },
    "language_info": {
      "name": "python"
    }
  },
  "cells": [
    {
      "cell_type": "code",
      "execution_count": null,
      "metadata": {
        "id": "wR0bKwO3WFTj"
      },
      "outputs": [],
      "source": [
        "# Install libraries\n",
        "!pip install transformers\n",
        "!pip install datasets\n",
        "!pip install faiss-cpu"
      ]
    },
    {
      "cell_type": "code",
      "source": [
        "from transformers import RagTokenizer, RagRetriever, RagTokenForGeneration\n",
        "from transformers import DPRQuestionEncoder, DPRContextEncoder, DPRReader\n",
        "\n",
        "# Initialize tokenizer and model\n",
        "tokenizer = RagTokenizer.from_pretrained(\"facebook/rag-token-nq\")\n",
        "retriever = RagRetriever.from_pretrained(\"facebook/rag-token-nq\", index_name=\"exact\", use_dummy_dataset=True)\n",
        "model = RagTokenForGeneration.from_pretrained(\"facebook/rag-token-nq\", retriever=retriever)\n"
      ],
      "metadata": {
        "id": "eT8NhTT9WNp6"
      },
      "execution_count": null,
      "outputs": []
    },
    {
      "cell_type": "code",
      "source": [
        "# Encode the question\n",
        "input_ids = tokenizer(\"What is the capital of Japan?\", return_tensors=\"pt\").input_ids\n",
        "\n",
        "# Use the model to generate an answer\n",
        "outputs = model.generate(input_ids)\n",
        "\n",
        "# Decode the answer\n",
        "print(\"Answer:\", tokenizer.decode(outputs[0], skip_special_tokens=True))"
      ],
      "metadata": {
        "colab": {
          "base_uri": "https://localhost:8080/"
        },
        "id": "X_hfr-0qZAbx",
        "outputId": "457ed7fe-3ee2-4cd1-e8f0-7e6d57e8d479"
      },
      "execution_count": null,
      "outputs": [
        {
          "output_type": "stream",
          "name": "stdout",
          "text": [
            "Answer:  tokyo\n"
          ]
        }
      ]
    }
  ]
}